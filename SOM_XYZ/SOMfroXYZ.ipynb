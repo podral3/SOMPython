{
 "cells": [
  {
   "cell_type": "code",
   "execution_count": 1,
   "metadata": {},
   "outputs": [
    {
     "name": "stdout",
     "output_type": "stream",
     "text": [
      "(10000, 3)\n"
     ]
    }
   ],
   "source": [
    "from minisom import MiniSom\n",
    "import numpy as np\n",
    "import pandas as pd\n",
    "from DataSet import DataSet\n",
    "from Square import *\n",
    "import os\n",
    "\n",
    "current_dir = os.getcwd()\n",
    "\n",
    "data = pd.read_csv(f'{current_dir}/SomXYZ.csv')\n",
    "data = data.values\n",
    "#moim zdaniem chyba nie potrzeba tutaj normalizować danych, ewentualnie po zmianach wartości x oraz y z jest zawsze -1 do 1\n",
    "print(data.shape)"
   ]
  },
  {
   "cell_type": "code",
   "execution_count": 3,
   "metadata": {},
   "outputs": [],
   "source": [
    "dataSet = DataSet(data)\n",
    "dataSet.group_points_into_squares(10,10)\n",
    "dataSet.group_normal_vectors()"
   ]
  },
  {
   "cell_type": "code",
   "execution_count": null,
   "metadata": {},
   "outputs": [],
   "source": [
    "x_values = data[:,0]\n",
    "y_values = data[:,1]\n",
    "z_values = data[:,2]\n",
    "min_x = min(x_values)\n",
    "min_y = min(y_values)\n",
    "max_x = max(x_values)\n",
    "max_y = max(y_values)"
   ]
  },
  {
   "cell_type": "code",
   "execution_count": null,
   "metadata": {},
   "outputs": [],
   "source": [
    "def group_array(data, x_jump, y_jump):\n",
    "    x_segments_count = int((max(x_values) - min(x_values)) / x_jump)\n",
    "    y_segments_count = int((max(y_values) - min(y_values)) / y_jump)\n",
    "    segmented_points = np.zeros((x_segments_count+1, y_segments_count+1), dtype=object)\n",
    "\n",
    "    x = min_x\n",
    "    y = min_y\n",
    "\n",
    "    x_iterator = x_segments_count\n",
    "    while(x_iterator >= 0):\n",
    "       y_iterator = y_segments_count\n",
    "       while(y_iterator >= 0):\n",
    "          points = [point for point in data if point[0] >= x and point[0] < x + x_jump and point[1] >= y and point[1] < y+y_jump]\n",
    "          x_pos = x_segments_count - x_iterator\n",
    "          y_pos = y_segments_count - y_iterator\n",
    "          sq = Square(np.array(points), x_pos, y_pos)\n",
    "          sq.svd_method()\n",
    "          segmented_points[x_pos,y_pos] = sq\n",
    "\n",
    "          y += y_jump\n",
    "          y_iterator = y_iterator -1\n",
    "       x += x_jump\n",
    "       y = min_y\n",
    "       x_iterator = x_iterator - 1\n",
    "    return(np.array(segmented_points))\n",
    "    \n",
    "squares2d = group_array(data,10,10)\n",
    "squares = squares2d.flatten()\n"
   ]
  },
  {
   "cell_type": "code",
   "execution_count": null,
   "metadata": {},
   "outputs": [],
   "source": [
    "def get_vec_square(x,y,n):\n",
    "    normal_vectors = []\n",
    "    for i in range(x, x+n):\n",
    "        for j in range(y, y+n):\n",
    "            #print(squares2d[i,j].normal_vector)\n",
    "            normal_vectors.append(squares2d[i,j].normal_vector)\n",
    "    return np.concatenate(normal_vectors).flatten()\n",
    "\n",
    "def group_normal_vectors(squares2d, n):\n",
    "    normal_vectors_list = []\n",
    "    x_len = squares2d.shape[0]\n",
    "    y_len = squares2d.shape[1]\n",
    "    for x in range(0, x_len-n):\n",
    "        for y in range(0, y_len-n):\n",
    "            normal_vectors_list.append(get_vec_square(x,y,n))\n",
    "    return normal_vectors_list\n",
    "\n",
    "train_data = group_normal_vectors(squares2d, 2)    "
   ]
  },
  {
   "cell_type": "code",
   "execution_count": null,
   "metadata": {},
   "outputs": [],
   "source": [
    "squares2d[0,0].randomize_points(50)\n",
    "bad_square = squares2d[0,0]"
   ]
  },
  {
   "cell_type": "code",
   "execution_count": null,
   "metadata": {},
   "outputs": [],
   "source": [
    "%matplotlib ipympl\n",
    "import matplotlib.pyplot as plt\n",
    "from mpl_toolkits.mplot3d import Axes3D \n",
    "\n",
    "fig = plt.figure()\n",
    "ax = fig.add_subplot(111, projection='3d') \n",
    "\n",
    "# Wykres punktowy 3D\n",
    "ax.scatter(bad_square.points[:,0], bad_square.points[:,1], bad_square.points[:,2], c='r', marker='o')  # c - kolor,  marker - kształt punktoru\n",
    "\n",
    "# Ustawianie etykiet osi\n",
    "ax.set_xlabel('X')\n",
    "ax.set_ylabel('Y')\n",
    "ax.set_zlabel('Z')\n",
    "\n",
    "# Wyświetlenie wykresu\n",
    "plt.show()"
   ]
  },
  {
   "cell_type": "markdown",
   "metadata": {},
   "source": [
    "TO EDYTOWAĆ DLA TRENINGU"
   ]
  },
  {
   "cell_type": "code",
   "execution_count": null,
   "metadata": {},
   "outputs": [],
   "source": [
    "som_3dim = len(bad_square.normal_vector) #ilość wag w neuronie\n",
    "som_grid_size = 4\n",
    "\n",
    "normal_vectors_to_train = np.array([x.normal_vector for x in squares]) #tworzenie listy składającej się z wektorów gotowych do treningu \n",
    "labels = np.array([int(x.bad_square) for x in squares])\n",
    "label_names = {0: 'Dobre', 1: 'Złe'}"
   ]
  },
  {
   "cell_type": "code",
   "execution_count": null,
   "metadata": {},
   "outputs": [],
   "source": [
    "som = MiniSom(som_grid_size, som_grid_size, som_3dim, random_seed=42)\n",
    "som.train(normal_vectors_to_train, 10000)"
   ]
  },
  {
   "cell_type": "markdown",
   "metadata": {},
   "source": [
    "Koniec edytowania"
   ]
  },
  {
   "cell_type": "code",
   "execution_count": null,
   "metadata": {},
   "outputs": [],
   "source": [
    "print(som.winner(bad_square.normal_vector))\n",
    "print(bad_square.get_position())"
   ]
  },
  {
   "cell_type": "code",
   "execution_count": null,
   "metadata": {},
   "outputs": [],
   "source": [
    "#tworzenie mapy kolorów\n",
    "som_colors = np.empty((som_grid_size, som_grid_size), dtype='object')\n",
    "color_idx = 0\n",
    "for i in range(som_grid_size):\n",
    "    for j in range (som_grid_size):\n",
    "        som_colors[i,j] = colors[color_idx]\n",
    "        color_idx+= 1\n",
    "print(som_colors[1][0])"
   ]
  },
  {
   "cell_type": "code",
   "execution_count": null,
   "metadata": {},
   "outputs": [],
   "source": [
    "#kolorowanie punktów sinusoidy\n",
    "winner_pos = som.winner(bad_square.normal_vector)\n",
    "col = som_colors[winner_pos[0], winner_pos[1]]\n",
    "print(col)\n",
    "bad_square.color_my_points(col)\n",
    "for square in squares:\n",
    "    winner_pos = som.winner(bad_square.normal_vector)\n",
    "    col = som_colors[winner_pos[0], winner_pos[1]]\n",
    "    square.color_my_points(col)\n"
   ]
  },
  {
   "cell_type": "code",
   "execution_count": null,
   "metadata": {},
   "outputs": [],
   "source": [
    "svd_normal_vector = bad_square.svd_method()"
   ]
  },
  {
   "cell_type": "code",
   "execution_count": null,
   "metadata": {},
   "outputs": [],
   "source": [
    "normal_x, normal_y, normal_Z = svd_normal_vector\n",
    "centroid = bad_square.points.mean(axis=0)\n",
    "# Create grid values\n",
    "x = np.linspace(min(bad_square.points[:,0]), max(bad_square.points[:,0]),20) #x i y są zamienione miejscami ???\n",
    "y = np.linspace(min(bad_square.points[:,1]), max(bad_square.points[:,1]),20)\n",
    "xx, yy = np.meshgrid(x, y)\n",
    "d = normal_x * centroid[0] + normal_y * centroid[1] + normal_Z * centroid[2]\n",
    "# Calculate Z values\n",
    "Z = (-normal_x * xx - normal_y * yy + d) / normal_Z\n",
    "\n",
    "# Create the 3D plot\n",
    "fig = plt.figure()\n",
    "ax = fig.add_subplot(111, projection='3d')\n",
    "ax.scatter(bad_square.points[:,0], bad_square.points[:,1], bad_square.points[:,2], c='r', marker='o')  # c - kolor,  marker - kształt punktoru\n",
    "\n",
    "ax.plot_surface(xx, yy, Z, alpha=0.5)\n",
    "ax.set_xlabel('X')\n",
    "ax.set_ylabel('Y')\n",
    "ax.set_zlabel('Z')\n",
    "\n",
    "plt.show()"
   ]
  },
  {
   "cell_type": "code",
   "execution_count": null,
   "metadata": {},
   "outputs": [],
   "source": [
    "import csv\n",
    "def print_out_squares(squares): #zmien nazwe\n",
    "    formatted_numbers = []\n",
    "    with open('numbers.csv', 'w', newline='') as csvfile:\n",
    "        for suqare in squares:\n",
    "            points_to_print = suqare.colored_points\n",
    "            writer = csv.writer(csvfile)\n",
    "            for point in points_to_print:\n",
    "                for num in point:\n",
    "                    formatted_numbers.append(\"{}\".format(num))\n",
    "                writer.writerow(formatted_numbers)\n",
    "                formatted_numbers = []\n",
    "print_out_squares(squares)"
   ]
  },
  {
   "cell_type": "code",
   "execution_count": null,
   "metadata": {},
   "outputs": [],
   "source": [
    "import matplotlib.gridspec as gridspec\n",
    "\n",
    "labels_map = som.labels_map(normal_vectors_to_train, [label_names[t] for t in labels])\n",
    "\n",
    "fig = plt.figure(figsize=(9, 9))\n",
    "the_grid = gridspec.GridSpec(som_grid_size, som_grid_size, fig)\n",
    "for position in labels_map.keys():\n",
    "    label_fracs = [labels_map[position][l] for l in label_names.values()]\n",
    "    plt.subplot(the_grid[som_grid_size-1-position[1],\n",
    "                         position[0]], aspect=1)\n",
    "    patches, autotexts = plt.pie(label_fracs, textprops={'fontsize': 6})  # Change here\n",
    "\n",
    "    # Add labels to show the counts\n",
    "    for t, count in zip(autotexts, label_fracs):\n",
    "        if count > 0:  # Only display the number if the count is greater than zero\n",
    "            t.set_text(f\"{count:.0f}\") \n",
    "\n",
    "plt.legend(patches, label_names.values(), bbox_to_anchor=(5.5, 9.5), ncol=3)\n",
    "plt.show()"
   ]
  },
  {
   "cell_type": "code",
   "execution_count": null,
   "metadata": {},
   "outputs": [],
   "source": [
    "#przyjrzeć się metodzie som.labels_map()\n",
    "#https://github.com/JustGlowing/minisom/blob/master/examples/Classification.ipynb\n",
    "#przemyśleć czy całego generowania kwadratu nie przenieść do pliku od generowania daty\n",
    "#nowa zaproponowana formuła danych: Dane: w jednej linii jeden kwadrat, Label, dla jednego kwadratu czy jest popsuty czy nie"
   ]
  }
 ],
 "metadata": {
  "kernelspec": {
   "display_name": "Python 3",
   "language": "python",
   "name": "python3"
  },
  "language_info": {
   "codemirror_mode": {
    "name": "ipython",
    "version": 3
   },
   "file_extension": ".py",
   "mimetype": "text/x-python",
   "name": "python",
   "nbconvert_exporter": "python",
   "pygments_lexer": "ipython3",
   "version": "3.10.12"
  }
 },
 "nbformat": 4,
 "nbformat_minor": 2
}
