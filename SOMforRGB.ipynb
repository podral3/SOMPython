{
 "cells": [
  {
   "cell_type": "code",
   "execution_count": 1,
   "metadata": {},
   "outputs": [
    {
     "name": "stdout",
     "output_type": "stream",
     "text": [
      "[[1. 0. 0.]\n",
      " [0. 1. 0.]\n",
      " [0. 1. 0.]\n",
      " [1. 0. 0.]\n",
      " [1. 0. 0.]]\n",
      "point: [0. 1. 0.]\n",
      "label: green\n"
     ]
    }
   ],
   "source": [
    "from minisom import MiniSom\n",
    "import numpy as np\n",
    "from sklearn.model_selection import train_test_split\n",
    "from sklearn.preprocessing import MinMaxScaler\n",
    "import pandas as pd\n",
    "\n",
    "data = pd.read_csv(\".\\SomDataGrouping.csv\")\n",
    "labels = data['color'].values\n",
    "data = data.loc[:, ['r', 'g', 'b']].values\n",
    "data = (data - np.mean(data, axis=0)) / np.std(data, axis=0)\n",
    "#normalization\n",
    "scaler = MinMaxScaler()\n",
    "data = scaler.fit_transform(data)\n",
    "print(data[:5])\n",
    "train_points, test_points, train_labels, test_labels = train_test_split(data, labels, test_size=0.20, random_state=42)\n",
    "print(\"point:\", train_points[0])\n",
    "print(\"label:\", train_labels[0])\n"
   ]
  },
  {
   "cell_type": "code",
   "execution_count": 19,
   "metadata": {},
   "outputs": [],
   "source": [
    "def find_closest_divider(number):\n",
    "\n",
    "\n",
    "  if number == 0:\n",
    "    return None\n",
    "\n",
    "  # Check for divisibility by 2 first (most common case)\n",
    "  if number % 2 == 0:\n",
    "    return number // 2\n",
    "\n",
    "  # Iterate through potential divisors, starting from 3 (odd numbers)\n",
    "  divisor = 3\n",
    "  while divisor * divisor <= number:\n",
    "    if number % divisor == 0:\n",
    "      return divisor\n",
    "    divisor += 2\n",
    "\n",
    "  # If no divisor is found within the square root, return the number itself\n",
    "  return number\n",
    "\n",
    "def merge_points(points, vector_count):\n",
    "  merged = []\n",
    "  vector_count = find_closest_divider(vector_count)\n",
    "  for i in range(0, len(points)-vector_count, vector_count):\n",
    "    merged.append(np.concatenate(points[i:i+vector_count]))\n",
    "  return np.array(merged)\n"
   ]
  },
  {
   "cell_type": "code",
   "execution_count": 26,
   "metadata": {},
   "outputs": [
    {
     "name": "stdout",
     "output_type": "stream",
     "text": [
      "(66, 54)\n",
      "[0. 1. 0. 1. 0. 0. 0. 0. 1. 0. 0. 1. 0. 0. 1. 0. 1. 0. 0. 1. 0. 0. 1. 0.\n",
      " 0. 1. 0. 0. 1. 0. 0. 1. 0. 0. 1. 0. 0. 0. 1. 0. 1. 0. 0. 0. 1. 1. 0. 0.\n",
      " 0. 0. 1. 0. 1. 0.]\n"
     ]
    }
   ],
   "source": [
    "train_points_merged = merge_points(train_points, 36)\n",
    "print(train_points_merged.shape)\n",
    "print(train_points_merged[0])\n",
    "\n",
    "som_dim = train_points_merged.shape[1]\n"
   ]
  },
  {
   "cell_type": "code",
   "execution_count": 7,
   "metadata": {},
   "outputs": [],
   "source": [
    "# formula for grid dimentions: 5 * sqrt(number of training samples)\n",
    "#dimentions = 5 * np.sqrt(train_x.shape[0])\n",
    "#grid_size = np.ceil(np.sqrt(dimentions))\n",
    "\n",
    "som = MiniSom(3,3,som_dim, sigma=1, learning_rate=0.5)\n",
    "som.train(train_points, 1000)\n"
   ]
  },
  {
   "cell_type": "code",
   "execution_count": 8,
   "metadata": {},
   "outputs": [
    {
     "data": {
      "image/png": "[encoded data removed]",
      "text/plain": [
       "<Figure size 640x480 with 2 Axes>"
      ]
     },
     "metadata": {},
     "output_type": "display_data"
    }
   ],
   "source": [
    "import matplotlib.pyplot as plt\n",
    "umatrix = som.distance_map()\n",
    "plt.imshow(umatrix, cmap='bone_r')  # Choose your desired colormap\n",
    "plt.colorbar()\n",
    "\n",
    "markers = ['o', 's', 'D']\n",
    "colors = ['C0', 'C1', 'C2']\n",
    "color_dict = {\"red\": 1, \"green\": 2, \"blue\": 3}\n",
    "for index, point in enumerate(train_points):\n",
    "    w = som.winner(point)\n",
    "    plt.plot(w[0]+.05, w[1]+.05, 'o', markerfacecolor='None', markeredgecolor=colors[color_dict[train_labels[index]]-1],\n",
    "             markersize=12)\n",
    "\n",
    "plt.show()\n",
    "\n"
   ]
  }
 ],
 "metadata": {
  "kernelspec": {
   "display_name": "Python 3",
   "language": "python",
   "name": "python3"
  },
  "language_info": {
   "codemirror_mode": {
    "name": "ipython",
    "version": 3
   },
   "file_extension": ".py",
   "mimetype": "text/x-python",
   "name": "python",
   "nbconvert_exporter": "python",
   "pygments_lexer": "ipython3",
   "version": "3.10.6"
  }
 },
 "nbformat": 4,
 "nbformat_minor": 2
}
